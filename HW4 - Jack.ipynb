{
 "cells": [
  {
   "cell_type": "markdown",
   "id": "4a19ac5f",
   "metadata": {},
   "source": [
    "1a."
   ]
  },
  {
   "cell_type": "code",
   "execution_count": 31,
   "id": "f7089ba7",
   "metadata": {},
   "outputs": [],
   "source": [
    "import pandas as pd\n",
    "red_wine_df = pd.read_csv(r\"C:\\Users\\John\\Desktop\\Jack Stuff\\Data Sets\\winequality-red.csv\", sep=';')\n",
    "white_wine_df = pd.read_csv(r\"C:\\Users\\John\\Desktop\\Jack Stuff\\Data Sets\\winequality-white.csv\", sep=';')\n",
    "red_wine_df['wine_type'] = 'red'\n",
    "white_wine_df['wine_type'] = 'white'\n",
    "wine_df = pd.concat([red_wine_df, white_wine_df], axis=0, ignore_index=True)"
   ]
  },
  {
   "cell_type": "markdown",
   "id": "73274693",
   "metadata": {},
   "source": [
    "1b. The data set is large so I opted to use a 60:20:20 ratio for training, testing, and validation sets. This is will prevent overfitting because the training dataset is large enough, and there will still be sufficient data for validation and testing. "
   ]
  },
  {
   "cell_type": "code",
   "execution_count": 32,
   "id": "bd000500",
   "metadata": {},
   "outputs": [],
   "source": [
    "train_df = wine_df.sample(frac=0.6, random_state=42)\n",
    "test_df = wine_df.drop(train_df.index).sample(frac=0.5, random_state=42)\n",
    "val_df = wine_df.drop(train_df.index).drop(test_df.index)"
   ]
  },
  {
   "cell_type": "markdown",
   "id": "e6107a3a",
   "metadata": {},
   "source": [
    "1c."
   ]
  },
  {
   "cell_type": "code",
   "execution_count": 33,
   "id": "9f6abf68",
   "metadata": {},
   "outputs": [
    {
     "name": "stdout",
     "output_type": "stream",
     "text": [
      "density                 1.000000\n",
      "residual sugar          0.552517\n",
      "fixed acidity           0.458910\n",
      "chlorides               0.362615\n",
      "volatile acidity        0.271296\n",
      "sulphates               0.259478\n",
      "citric acid             0.096154\n",
      "total sulfur dioxide    0.032395\n",
      "free sulfur dioxide     0.025717\n",
      "pH                      0.011686\n",
      "quality                -0.305858\n",
      "alcohol                -0.686745\n",
      "Name: density, dtype: float64\n",
      "\n",
      "The most linear properties are: alcohol, residual sugar, fixed acidity, chlorides, quality\n"
     ]
    }
   ],
   "source": [
    "corr_matrix = wine_df.corr()\n",
    "print(corr_matrix['density'].sort_values(ascending=False))\n",
    "print('\\nThe most linear properties are: alcohol, residual sugar, fixed acidity, chlorides, quality')"
   ]
  },
  {
   "cell_type": "markdown",
   "id": "0a1e3423",
   "metadata": {},
   "source": [
    "1d. "
   ]
  },
  {
   "cell_type": "code",
   "execution_count": 34,
   "id": "ca0dca81",
   "metadata": {},
   "outputs": [
    {
     "name": "stdout",
     "output_type": "stream",
     "text": [
      "\n",
      "Regression 1: ['alcohol']\n",
      "RSS: 0.01748111426705374\n",
      "\n",
      "Regression 2: ['alcohol', 'fixed acidity']\n",
      "RSS: 0.01195914517613238\n",
      "\n",
      "Regression 3: ['alcohol', 'fixed acidity', 'residual sugar']\n",
      "RSS: 0.007203267481181568\n",
      "\n",
      "Regression 4: ['alcohol', 'fixed acidity', 'residual sugar', 'chlorides']\n",
      "RSS: 0.006343808597728961\n",
      "\n",
      "Regression 5: ['alcohol', 'fixed acidity', 'residual sugar', 'chlorides', 'quality']\n",
      "RSS: 0.006311310540341453\n"
     ]
    }
   ],
   "source": [
    "import numpy as np\n",
    "from sklearn.linear_model import LinearRegression\n",
    "from sklearn.metrics import mean_squared_error\n",
    "\n",
    "# Set target and predictor variables\n",
    "target = 'density'\n",
    "predictors = ['alcohol', 'residual sugar','fixed acidity', 'chlorides', 'quality']\n",
    "\n",
    "# Define function for stepwise forward selection\n",
    "def stepwise_forward_selection(data, target, predictors):\n",
    "    remaining_predictors = set(predictors)\n",
    "    selected_predictors = []\n",
    "    rss_list = []\n",
    "    \n",
    "# Select the predictor with the lowest RSS value and add it to the model\n",
    "    while remaining_predictors:\n",
    "        best_rss = float('inf')\n",
    "\n",
    "# Iterate through remaining predictors and add them to the model\n",
    "        for candidate in remaining_predictors:\n",
    "            model = LinearRegression()\n",
    "            X = data[selected_predictors + [candidate]]\n",
    "            y = data[target]\n",
    "# Fit linear regression model and make predictions\n",
    "            model.fit(X, y)\n",
    "            y_pred = model.predict(X)\n",
    "# Calculate RSS value\n",
    "            rss = mean_squared_error(y, y_pred) * len(y)\n",
    "\n",
    "# If the current model has a lower RSS than the previous models, select this predictor as the best\n",
    "            if rss < best_rss:\n",
    "                best_rss = rss\n",
    "                best_candidate = candidate\n",
    "\n",
    "# Remove best candidate from remaining predictors and add it to selected predictors list     \n",
    "        remaining_predictors.remove(best_candidate)\n",
    "        selected_predictors.append(best_candidate)\n",
    "        rss_list.append(best_rss)\n",
    "# Return the final list of selected predictors and their RSS values\n",
    "    return selected_predictors, rss_list\n",
    "\n",
    "selected_predictors, rss_list = stepwise_forward_selection(train_df, target, predictors)\n",
    "\n",
    "for i in range(len(selected_predictors)):\n",
    "    print(f\"\\nRegression {i+1}: {selected_predictors[:i+1]}\")\n",
    "    print(f\"RSS: {rss_list[i]}\")\n"
   ]
  },
  {
   "cell_type": "markdown",
   "id": "4c42342a",
   "metadata": {},
   "source": [
    "1e. "
   ]
  },
  {
   "cell_type": "code",
   "execution_count": 35,
   "id": "276eea38",
   "metadata": {},
   "outputs": [
    {
     "name": "stdout",
     "output_type": "stream",
     "text": [
      "The MSE of the model on the test data is 1.5502067960519827e-06\n"
     ]
    }
   ],
   "source": [
    "# Select training predictors and target\n",
    "X_train = train_df[['alcohol', 'residual sugar','fixed acidity', 'chlorides', 'quality']]\n",
    "y_train = train_df['density']\n",
    "\n",
    "# Create a Linear Regression model\n",
    "model = LinearRegression()\n",
    "\n",
    "# Fit model on the training data\n",
    "model.fit(X_train, y_train)\n",
    "\n",
    "# Select test predictors and target\n",
    "X_test = test_df[['alcohol', 'residual sugar','fixed acidity', 'chlorides', 'quality']]\n",
    "y_test = test_df['density']\n",
    "\n",
    "# Make predictions on test data using the trained model\n",
    "y_pred_test = model.predict(X_test)\n",
    "\n",
    "# Calculate mean squared error between the predicted and actual values on the test data\n",
    "mse_test = mean_squared_error(y_test, y_pred_test)\n",
    "\n",
    "print('The MSE of the model on the test data is', mse_test)\n"
   ]
  },
  {
   "cell_type": "markdown",
   "id": "af9174ac",
   "metadata": {},
   "source": [
    "1f."
   ]
  },
  {
   "cell_type": "code",
   "execution_count": 36,
   "id": "9c95da5a",
   "metadata": {},
   "outputs": [
    {
     "name": "stdout",
     "output_type": "stream",
     "text": [
      "Choice 3) The MSE of the model on the validation data is 2.007891978484558e-06\n"
     ]
    }
   ],
   "source": [
    "# Select the predictors for  validation data\n",
    "X_val = val_df[['alcohol', 'residual sugar', 'fixed acidity', 'chlorides', 'quality']]\n",
    "# Select the target variable for  validation data\n",
    "y_val = val_df['density']\n",
    "\n",
    "# Use model to predict the target variable for validation data\n",
    "y_pred_val = model.predict(X_val)\n",
    "\n",
    "# Calculate mean squared error between the predicted and actual target variables for validation data\n",
    "mse_val = mean_squared_error(y_val, y_pred_val)\n",
    "\n",
    "print('Choice 3) The MSE of the model on the validation data is', mse_val)"
   ]
  },
  {
   "cell_type": "markdown",
   "id": "ffd46f2f",
   "metadata": {},
   "source": [
    "2."
   ]
  },
  {
   "cell_type": "code",
   "execution_count": 37,
   "id": "c95ef5f6",
   "metadata": {},
   "outputs": [
    {
     "name": "stdout",
     "output_type": "stream",
     "text": [
      "(3898, 12) (1300, 12) (1299, 12)\n"
     ]
    }
   ],
   "source": [
    "import numpy as np \n",
    "import pandas as pd \n",
    "import matplotlib.pyplot as plt\n",
    "import seaborn as sns\n",
    "%matplotlib inline\n",
    "import os\n",
    "import warnings\n",
    "\n",
    "from sklearn.model_selection import train_test_split\n",
    "\n",
    "# Select all columns except 'wine_type' column as features\n",
    "X = wine_df.drop('wine_type', axis=1)\n",
    "\n",
    "# Select 'wine_type' column as the target variable\n",
    "y = wine_df['wine_type']\n",
    "\n",
    "# Split the data into training and testing sets\n",
    "# Use 30% of the data for testing\n",
    "X_train, X_test, y_train, y_test = train_test_split(X, y, test_size=0.4, random_state=42)\n",
    "\n",
    "# Split the test set into validation and testing sets and use 50% of test set for validation and remaining 50% for testing\n",
    "X_val, X_test, y_val, y_test = train_test_split(X_test, y_test, test_size=0.5, random_state=42)\n",
    "\n",
    "print(X_train.shape, X_test.shape, X_val.shape)\n"
   ]
  },
  {
   "cell_type": "code",
   "execution_count": 38,
   "id": "8d701646",
   "metadata": {},
   "outputs": [
    {
     "name": "stdout",
     "output_type": "stream",
     "text": [
      "['fixed acidity', 'volatile acidity', 'citric acid', 'residual sugar', 'chlorides', 'free sulfur dioxide', 'total sulfur dioxide', 'density', 'pH', 'sulphates', 'alcohol', 'quality']\n"
     ]
    }
   ],
   "source": [
    "# Extract the column names from the X DataFrame and store them in a list\n",
    "wine_columns = [i for i in X.columns]\n",
    "\n",
    "print(wine_columns)"
   ]
  },
  {
   "cell_type": "code",
   "execution_count": 28,
   "id": "d18e04f7",
   "metadata": {
    "scrolled": true
   },
   "outputs": [
    {
     "name": "stdout",
     "output_type": "stream",
     "text": [
      "Requirement already satisfied: category_encoders in c:\\users\\john\\anaconda3\\lib\\site-packages (2.6.0)\n",
      "Requirement already satisfied: pandas>=1.0.5 in c:\\users\\john\\anaconda3\\lib\\site-packages (from category_encoders) (1.4.4)\n",
      "Requirement already satisfied: numpy>=1.14.0 in c:\\users\\john\\appdata\\roaming\\python\\python39\\site-packages (from category_encoders) (1.24.2)\n",
      "Requirement already satisfied: statsmodels>=0.9.0 in c:\\users\\john\\anaconda3\\lib\\site-packages (from category_encoders) (0.13.2)\n",
      "Requirement already satisfied: scikit-learn>=0.20.0 in c:\\users\\john\\anaconda3\\lib\\site-packages (from category_encoders) (1.0.2)\n",
      "Requirement already satisfied: scipy>=1.0.0 in c:\\users\\john\\anaconda3\\lib\\site-packages (from category_encoders) (1.9.1)\n",
      "Requirement already satisfied: patsy>=0.5.1 in c:\\users\\john\\anaconda3\\lib\\site-packages (from category_encoders) (0.5.2)\n",
      "Requirement already satisfied: pytz>=2020.1 in c:\\users\\john\\anaconda3\\lib\\site-packages (from pandas>=1.0.5->category_encoders) (2022.1)\n",
      "Requirement already satisfied: python-dateutil>=2.8.1 in c:\\users\\john\\appdata\\roaming\\python\\python39\\site-packages (from pandas>=1.0.5->category_encoders) (2.8.2)\n",
      "Requirement already satisfied: six in c:\\users\\john\\appdata\\roaming\\python\\python39\\site-packages (from patsy>=0.5.1->category_encoders) (1.15.0)\n",
      "Requirement already satisfied: threadpoolctl>=2.0.0 in c:\\users\\john\\anaconda3\\lib\\site-packages (from scikit-learn>=0.20.0->category_encoders) (2.2.0)\n",
      "Requirement already satisfied: joblib>=0.11 in c:\\users\\john\\anaconda3\\lib\\site-packages (from scikit-learn>=0.20.0->category_encoders) (1.1.0)\n",
      "Requirement already satisfied: packaging>=21.3 in c:\\users\\john\\appdata\\roaming\\python\\python39\\site-packages (from statsmodels>=0.9.0->category_encoders) (23.0)\n"
     ]
    },
    {
     "name": "stderr",
     "output_type": "stream",
     "text": [
      "\n",
      "[notice] A new release of pip is available: 23.0.1 -> 23.1.1\n",
      "[notice] To update, run: python.exe -m pip install --upgrade pip\n"
     ]
    }
   ],
   "source": [
    "!pip install category_encoders"
   ]
  },
  {
   "cell_type": "code",
   "execution_count": 39,
   "id": "c5567946",
   "metadata": {},
   "outputs": [
    {
     "name": "stdout",
     "output_type": "stream",
     "text": [
      "Model accuracy score with criterion gini index: 0.8531\n",
      "The training-set accuracy score is 0.8728\n",
      "The training set score is 0.8728\n",
      "The test set score is 0.8531\n",
      "The validation set score is 0.8591\n"
     ]
    }
   ],
   "source": [
    "import category_encoders as ce\n",
    "from sklearn.tree import DecisionTreeClassifier\n",
    "# Define encoder using the wine_columns list\n",
    "encoder = ce.OrdinalEncoder(cols=wine_columns)\n",
    "\n",
    "# Fit encoder to the training data and transform data using the fitted encoder\n",
    "X_train = encoder.fit_transform(X_train)\n",
    "\n",
    "# Transform test and validation data using fitted encoder\n",
    "X_test = encoder.transform(X_test)\n",
    "X_val = encoder.transform(X_val)\n",
    "\n",
    "# Define decision tree classifier with maximum depth of 3 and the Gini index as criterion for splitting\n",
    "clf_gini = DecisionTreeClassifier(criterion='gini', max_depth=3, random_state=0)\n",
    "\n",
    "# Fit the decision tree classifier to the training data\n",
    "clf_gini.fit(X_train, y_train)\n",
    "\n",
    "# Use the trained decision tree classifier to make predictions on test data\n",
    "y_pred_test_gini = clf_gini.predict(X_test)\n",
    "\n",
    "# Calculate accuracy of the decision tree classifier on the data\n",
    "from sklearn.metrics import accuracy_score\n",
    "print('Model accuracy score with criterion gini index: {0:0.4f}'.format(accuracy_score(y_test, y_pred_test_gini)))\n",
    "\n",
    "# Use trained decision tree classifier to make predictions on training data\n",
    "y_pred_train_gini = clf_gini.predict(X_train)\n",
    "\n",
    "\n",
    "print('The training-set accuracy score is {0:0.4f}'. format(accuracy_score(y_train, y_pred_train_gini)))\n",
    "print('The training set score is {:.4f}'.format(clf_gini.score(X_train, y_train)))\n",
    "print('The test set score is {:.4f}'.format(clf_gini.score(X_test, y_test)))\n",
    "print('The validation set score is {:.4f}'.format(clf_gini.score(X_val, y_val)))"
   ]
  },
  {
   "cell_type": "code",
   "execution_count": 40,
   "id": "6f8c0244",
   "metadata": {},
   "outputs": [
    {
     "data": {
      "text/plain": [
       "[Text(0.5, 0.875, 'X[4] <= 38.5\\ngini = 0.361\\nsamples = 3898\\nvalue = [921, 2977]'),\n",
       " Text(0.25, 0.625, 'X[1] <= 40.5\\ngini = 0.148\\nsamples = 2558\\nvalue = [206, 2352]'),\n",
       " Text(0.125, 0.375, 'X[9] <= 51.5\\ngini = 0.097\\nsamples = 2181\\nvalue = [111, 2070]'),\n",
       " Text(0.0625, 0.125, 'gini = 0.073\\nsamples = 2043\\nvalue = [77, 1966]'),\n",
       " Text(0.1875, 0.125, 'gini = 0.371\\nsamples = 138\\nvalue = [34, 104]'),\n",
       " Text(0.375, 0.375, 'X[3] <= 48.5\\ngini = 0.377\\nsamples = 377\\nvalue = [95, 282]'),\n",
       " Text(0.3125, 0.125, 'gini = 0.482\\nsamples = 202\\nvalue = [82, 120]'),\n",
       " Text(0.4375, 0.125, 'gini = 0.138\\nsamples = 175\\nvalue = [13, 162]'),\n",
       " Text(0.75, 0.625, 'X[1] <= 36.5\\ngini = 0.498\\nsamples = 1340\\nvalue = [715, 625]'),\n",
       " Text(0.625, 0.375, 'X[0] <= 37.5\\ngini = 0.438\\nsamples = 759\\nvalue = [246, 513]'),\n",
       " Text(0.5625, 0.125, 'gini = 0.36\\nsamples = 619\\nvalue = [146, 473]'),\n",
       " Text(0.6875, 0.125, 'gini = 0.408\\nsamples = 140\\nvalue = [100, 40]'),\n",
       " Text(0.875, 0.375, 'X[3] <= 75.5\\ngini = 0.311\\nsamples = 581\\nvalue = [469, 112]'),\n",
       " Text(0.8125, 0.125, 'gini = 0.21\\nsamples = 479\\nvalue = [422, 57]'),\n",
       " Text(0.9375, 0.125, 'gini = 0.497\\nsamples = 102\\nvalue = [47, 55]')]"
      ]
     },
     "execution_count": 40,
     "metadata": {},
     "output_type": "execute_result"
    },
    {
     "data": {
      "image/png": "[encoded data removed]",
      "text/plain": [
       "<Figure size 1200x800 with 1 Axes>"
      ]
     },
     "metadata": {},
     "output_type": "display_data"
    }
   ],
   "source": [
    "plt.figure(figsize=(12,8))\n",
    "from sklearn import tree\n",
    "tree.plot_tree(clf_gini.fit(X_train, y_train))"
   ]
  },
  {
   "cell_type": "code",
   "execution_count": 41,
   "id": "e04788ad",
   "metadata": {},
   "outputs": [
    {
     "name": "stdout",
     "output_type": "stream",
     "text": [
      "The confusion matrix is\n",
      "\n",
      " [[191 159]\n",
      " [ 32 918]]\n"
     ]
    }
   ],
   "source": [
    "from sklearn.metrics import confusion_matrix\n",
    "cm = confusion_matrix(y_test, y_pred_test_gini)\n",
    "print('The confusion matrix is\\n\\n', cm)"
   ]
  },
  {
   "cell_type": "code",
   "execution_count": 42,
   "id": "9b62dbdb",
   "metadata": {},
   "outputs": [
    {
     "name": "stdout",
     "output_type": "stream",
     "text": [
      "              precision    recall  f1-score   support\n",
      "\n",
      "         red       0.86      0.55      0.67       350\n",
      "       white       0.85      0.97      0.91       950\n",
      "\n",
      "    accuracy                           0.85      1300\n",
      "   macro avg       0.85      0.76      0.79      1300\n",
      "weighted avg       0.85      0.85      0.84      1300\n",
      "\n"
     ]
    }
   ],
   "source": [
    "from sklearn.metrics import classification_report\n",
    "print(classification_report(y_test, y_pred_test_gini))"
   ]
  },
  {
   "cell_type": "markdown",
   "id": "f38c0c78",
   "metadata": {},
   "source": [
    "3."
   ]
  },
  {
   "cell_type": "code",
   "execution_count": 43,
   "id": "fb06c24a",
   "metadata": {},
   "outputs": [
    {
     "data": {
      "text/plain": [
       "((4547, 5), (975, 5), (975, 5))"
      ]
     },
     "execution_count": 43,
     "metadata": {},
     "output_type": "execute_result"
    }
   ],
   "source": [
    "import pandas as pd\n",
    "from sklearn.model_selection import train_test_split\n",
    "\n",
    "X = wine_df[['alcohol', 'residual sugar', 'fixed acidity', 'chlorides', 'quality']]\n",
    "y = wine_df['density']\n",
    "\n",
    "X_train, X_test, y_train, y_test = train_test_split(X, y, test_size=0.3, random_state=42)\n",
    "X_val, X_test, y_val, y_test = train_test_split(X_test, y_test, test_size=0.5, random_state=42)\n",
    "\n",
    "X_train.shape, X_test.shape, X_val.shape"
   ]
  },
  {
   "cell_type": "code",
   "execution_count": 44,
   "id": "5fa3f9c7",
   "metadata": {},
   "outputs": [
    {
     "name": "stdout",
     "output_type": "stream",
     "text": [
      "Epoch 1/100\n",
      "143/143 [==============================] - 0s 2ms/step - loss: 23.7887 - mse: 23.7887 - val_loss: 13.8998 - val_mse: 13.8998\n",
      "Epoch 2/100\n",
      "143/143 [==============================] - 0s 953us/step - loss: 10.8921 - mse: 10.8921 - val_loss: 7.9139 - val_mse: 7.9139\n",
      "Epoch 3/100\n",
      "143/143 [==============================] - 0s 1ms/step - loss: 6.8263 - mse: 6.8263 - val_loss: 5.1727 - val_mse: 5.1727\n",
      "Epoch 4/100\n",
      "143/143 [==============================] - 0s 913us/step - loss: 4.5216 - mse: 4.5216 - val_loss: 3.5205 - val_mse: 3.5205\n",
      "Epoch 5/100\n",
      "143/143 [==============================] - 0s 894us/step - loss: 3.1032 - mse: 3.1032 - val_loss: 2.5180 - val_mse: 2.5180\n",
      "Epoch 6/100\n",
      "143/143 [==============================] - 0s 906us/step - loss: 2.2390 - mse: 2.2390 - val_loss: 1.9319 - val_mse: 1.9319\n",
      "Epoch 7/100\n",
      "143/143 [==============================] - 0s 903us/step - loss: 1.7249 - mse: 1.7249 - val_loss: 1.5873 - val_mse: 1.5873\n",
      "Epoch 8/100\n",
      "143/143 [==============================] - 0s 927us/step - loss: 1.4274 - mse: 1.4274 - val_loss: 1.3877 - val_mse: 1.3877\n",
      "Epoch 9/100\n",
      "143/143 [==============================] - 0s 1ms/step - loss: 1.2473 - mse: 1.2473 - val_loss: 1.2584 - val_mse: 1.2584\n",
      "Epoch 10/100\n",
      "143/143 [==============================] - 0s 982us/step - loss: 1.1275 - mse: 1.1275 - val_loss: 1.1610 - val_mse: 1.1610\n",
      "Epoch 11/100\n",
      "143/143 [==============================] - 0s 1ms/step - loss: 1.0354 - mse: 1.0354 - val_loss: 1.0766 - val_mse: 1.0766\n",
      "Epoch 12/100\n",
      "143/143 [==============================] - 0s 948us/step - loss: 0.9552 - mse: 0.9552 - val_loss: 0.9952 - val_mse: 0.9952\n",
      "Epoch 13/100\n",
      "143/143 [==============================] - 0s 946us/step - loss: 0.8787 - mse: 0.8787 - val_loss: 0.9162 - val_mse: 0.9162\n",
      "Epoch 14/100\n",
      "143/143 [==============================] - 0s 974us/step - loss: 0.8051 - mse: 0.8051 - val_loss: 0.8367 - val_mse: 0.8367\n",
      "Epoch 15/100\n",
      "143/143 [==============================] - 0s 876us/step - loss: 0.7327 - mse: 0.7327 - val_loss: 0.7591 - val_mse: 0.7591\n",
      "Epoch 16/100\n",
      "143/143 [==============================] - 0s 898us/step - loss: 0.6619 - mse: 0.6619 - val_loss: 0.6827 - val_mse: 0.6827\n",
      "Epoch 17/100\n",
      "143/143 [==============================] - 0s 892us/step - loss: 0.5945 - mse: 0.5945 - val_loss: 0.6105 - val_mse: 0.6105\n",
      "Epoch 18/100\n",
      "143/143 [==============================] - 0s 935us/step - loss: 0.5291 - mse: 0.5291 - val_loss: 0.5406 - val_mse: 0.5406\n",
      "Epoch 19/100\n",
      "143/143 [==============================] - 0s 883us/step - loss: 0.4671 - mse: 0.4671 - val_loss: 0.4748 - val_mse: 0.4748\n",
      "Epoch 20/100\n",
      "143/143 [==============================] - 0s 927us/step - loss: 0.4086 - mse: 0.4086 - val_loss: 0.4132 - val_mse: 0.4132\n",
      "Epoch 21/100\n",
      "143/143 [==============================] - 0s 904us/step - loss: 0.3553 - mse: 0.3553 - val_loss: 0.3574 - val_mse: 0.3574\n",
      "Epoch 22/100\n",
      "143/143 [==============================] - 0s 933us/step - loss: 0.3058 - mse: 0.3058 - val_loss: 0.3060 - val_mse: 0.3060\n",
      "Epoch 23/100\n",
      "143/143 [==============================] - 0s 969us/step - loss: 0.2617 - mse: 0.2617 - val_loss: 0.2592 - val_mse: 0.2592\n",
      "Epoch 24/100\n",
      "143/143 [==============================] - 0s 907us/step - loss: 0.2216 - mse: 0.2216 - val_loss: 0.2183 - val_mse: 0.2183\n",
      "Epoch 25/100\n",
      "143/143 [==============================] - 0s 934us/step - loss: 0.1855 - mse: 0.1855 - val_loss: 0.1818 - val_mse: 0.1818\n",
      "Epoch 26/100\n",
      "143/143 [==============================] - 0s 1ms/step - loss: 0.1543 - mse: 0.1543 - val_loss: 0.1495 - val_mse: 0.1495\n",
      "Epoch 27/100\n",
      "143/143 [==============================] - 0s 910us/step - loss: 0.1268 - mse: 0.1268 - val_loss: 0.1221 - val_mse: 0.1221\n",
      "Epoch 28/100\n",
      "143/143 [==============================] - 0s 983us/step - loss: 0.1035 - mse: 0.1035 - val_loss: 0.0989 - val_mse: 0.0989\n",
      "Epoch 29/100\n",
      "143/143 [==============================] - 0s 975us/step - loss: 0.0834 - mse: 0.0834 - val_loss: 0.0790 - val_mse: 0.0790\n",
      "Epoch 30/100\n",
      "143/143 [==============================] - 0s 891us/step - loss: 0.0671 - mse: 0.0671 - val_loss: 0.0629 - val_mse: 0.0629\n",
      "Epoch 31/100\n",
      "143/143 [==============================] - 0s 873us/step - loss: 0.0538 - mse: 0.0538 - val_loss: 0.0500 - val_mse: 0.0500\n",
      "Epoch 32/100\n",
      "143/143 [==============================] - 0s 886us/step - loss: 0.0432 - mse: 0.0432 - val_loss: 0.0399 - val_mse: 0.0399\n",
      "Epoch 33/100\n",
      "143/143 [==============================] - 0s 948us/step - loss: 0.0347 - mse: 0.0347 - val_loss: 0.0320 - val_mse: 0.0320\n",
      "Epoch 34/100\n",
      "143/143 [==============================] - 0s 897us/step - loss: 0.0282 - mse: 0.0282 - val_loss: 0.0260 - val_mse: 0.0260\n",
      "Epoch 35/100\n",
      "143/143 [==============================] - 0s 880us/step - loss: 0.0234 - mse: 0.0234 - val_loss: 0.0214 - val_mse: 0.0214\n",
      "Epoch 36/100\n",
      "143/143 [==============================] - 0s 861us/step - loss: 0.0195 - mse: 0.0195 - val_loss: 0.0179 - val_mse: 0.0179\n",
      "Epoch 37/100\n",
      "143/143 [==============================] - 0s 896us/step - loss: 0.0167 - mse: 0.0167 - val_loss: 0.0155 - val_mse: 0.0155\n",
      "Epoch 38/100\n",
      "143/143 [==============================] - 0s 929us/step - loss: 0.0147 - mse: 0.0147 - val_loss: 0.0137 - val_mse: 0.0137\n",
      "Epoch 39/100\n",
      "143/143 [==============================] - 0s 893us/step - loss: 0.0131 - mse: 0.0131 - val_loss: 0.0124 - val_mse: 0.0124\n",
      "Epoch 40/100\n",
      "143/143 [==============================] - 0s 941us/step - loss: 0.0120 - mse: 0.0120 - val_loss: 0.0114 - val_mse: 0.0114\n",
      "Epoch 41/100\n",
      "143/143 [==============================] - 0s 919us/step - loss: 0.0112 - mse: 0.0112 - val_loss: 0.0106 - val_mse: 0.0106\n",
      "Epoch 42/100\n",
      "143/143 [==============================] - 0s 894us/step - loss: 0.0105 - mse: 0.0105 - val_loss: 0.0103 - val_mse: 0.0103\n",
      "Epoch 43/100\n",
      "143/143 [==============================] - 0s 938us/step - loss: 0.0100 - mse: 0.0100 - val_loss: 0.0096 - val_mse: 0.0096\n",
      "Epoch 44/100\n",
      "143/143 [==============================] - 0s 925us/step - loss: 0.0096 - mse: 0.0096 - val_loss: 0.0091 - val_mse: 0.0091\n",
      "Epoch 45/100\n",
      "143/143 [==============================] - 0s 891us/step - loss: 0.0091 - mse: 0.0091 - val_loss: 0.0092 - val_mse: 0.0092\n",
      "Epoch 46/100\n",
      "143/143 [==============================] - 0s 916us/step - loss: 0.0088 - mse: 0.0088 - val_loss: 0.0087 - val_mse: 0.0087\n",
      "Epoch 47/100\n",
      "143/143 [==============================] - 0s 962us/step - loss: 0.0085 - mse: 0.0085 - val_loss: 0.0082 - val_mse: 0.0082\n",
      "Epoch 48/100\n",
      "143/143 [==============================] - 0s 916us/step - loss: 0.0082 - mse: 0.0082 - val_loss: 0.0081 - val_mse: 0.0081\n",
      "Epoch 49/100\n",
      "143/143 [==============================] - 0s 921us/step - loss: 0.0079 - mse: 0.0079 - val_loss: 0.0076 - val_mse: 0.0076\n",
      "Epoch 50/100\n",
      "143/143 [==============================] - 0s 975us/step - loss: 0.0077 - mse: 0.0077 - val_loss: 0.0074 - val_mse: 0.0074\n",
      "Epoch 51/100\n",
      "143/143 [==============================] - 0s 938us/step - loss: 0.0074 - mse: 0.0074 - val_loss: 0.0072 - val_mse: 0.0072\n",
      "Epoch 52/100\n",
      "143/143 [==============================] - 0s 951us/step - loss: 0.0072 - mse: 0.0072 - val_loss: 0.0069 - val_mse: 0.0069\n",
      "Epoch 53/100\n",
      "143/143 [==============================] - 0s 924us/step - loss: 0.0069 - mse: 0.0069 - val_loss: 0.0069 - val_mse: 0.0069\n",
      "Epoch 54/100\n",
      "143/143 [==============================] - 0s 914us/step - loss: 0.0067 - mse: 0.0067 - val_loss: 0.0064 - val_mse: 0.0064\n",
      "Epoch 55/100\n",
      "143/143 [==============================] - 0s 921us/step - loss: 0.0064 - mse: 0.0064 - val_loss: 0.0066 - val_mse: 0.0066\n",
      "Epoch 56/100\n",
      "143/143 [==============================] - 0s 988us/step - loss: 0.0062 - mse: 0.0062 - val_loss: 0.0060 - val_mse: 0.0060\n",
      "Epoch 57/100\n",
      "143/143 [==============================] - 0s 899us/step - loss: 0.0060 - mse: 0.0060 - val_loss: 0.0058 - val_mse: 0.0058\n",
      "Epoch 58/100\n",
      "143/143 [==============================] - 0s 871us/step - loss: 0.0057 - mse: 0.0057 - val_loss: 0.0055 - val_mse: 0.0055\n",
      "Epoch 59/100\n",
      "143/143 [==============================] - 0s 881us/step - loss: 0.0055 - mse: 0.0055 - val_loss: 0.0053 - val_mse: 0.0053\n",
      "Epoch 60/100\n",
      "143/143 [==============================] - 0s 926us/step - loss: 0.0052 - mse: 0.0052 - val_loss: 0.0052 - val_mse: 0.0052\n",
      "Epoch 61/100\n",
      "143/143 [==============================] - 0s 907us/step - loss: 0.0051 - mse: 0.0051 - val_loss: 0.0048 - val_mse: 0.0048\n",
      "Epoch 62/100\n",
      "143/143 [==============================] - 0s 882us/step - loss: 0.0047 - mse: 0.0047 - val_loss: 0.0046 - val_mse: 0.0046\n",
      "Epoch 63/100\n",
      "143/143 [==============================] - 0s 913us/step - loss: 0.0045 - mse: 0.0045 - val_loss: 0.0043 - val_mse: 0.0043\n",
      "Epoch 64/100\n",
      "143/143 [==============================] - 0s 938us/step - loss: 0.0043 - mse: 0.0043 - val_loss: 0.0041 - val_mse: 0.0041\n",
      "Epoch 65/100\n",
      "143/143 [==============================] - 0s 945us/step - loss: 0.0041 - mse: 0.0041 - val_loss: 0.0039 - val_mse: 0.0039\n",
      "Epoch 66/100\n",
      "143/143 [==============================] - 0s 901us/step - loss: 0.0038 - mse: 0.0038 - val_loss: 0.0037 - val_mse: 0.0037\n",
      "Epoch 67/100\n",
      "143/143 [==============================] - 0s 959us/step - loss: 0.0036 - mse: 0.0036 - val_loss: 0.0036 - val_mse: 0.0036\n",
      "Epoch 68/100\n",
      "143/143 [==============================] - 0s 884us/step - loss: 0.0034 - mse: 0.0034 - val_loss: 0.0032 - val_mse: 0.0032\n",
      "Epoch 69/100\n",
      "143/143 [==============================] - 0s 888us/step - loss: 0.0031 - mse: 0.0031 - val_loss: 0.0030 - val_mse: 0.0030\n",
      "Epoch 70/100\n",
      "143/143 [==============================] - 0s 915us/step - loss: 0.0029 - mse: 0.0029 - val_loss: 0.0028 - val_mse: 0.0028\n",
      "Epoch 71/100\n",
      "143/143 [==============================] - 0s 911us/step - loss: 0.0027 - mse: 0.0027 - val_loss: 0.0026 - val_mse: 0.0026\n",
      "Epoch 72/100\n",
      "143/143 [==============================] - 0s 894us/step - loss: 0.0025 - mse: 0.0025 - val_loss: 0.0025 - val_mse: 0.0025\n",
      "Epoch 73/100\n",
      "143/143 [==============================] - 0s 882us/step - loss: 0.0023 - mse: 0.0023 - val_loss: 0.0022 - val_mse: 0.0022\n",
      "Epoch 74/100\n",
      "143/143 [==============================] - 0s 891us/step - loss: 0.0021 - mse: 0.0021 - val_loss: 0.0020 - val_mse: 0.0020\n",
      "Epoch 75/100\n",
      "143/143 [==============================] - 0s 895us/step - loss: 0.0019 - mse: 0.0019 - val_loss: 0.0018 - val_mse: 0.0018\n",
      "Epoch 76/100\n",
      "143/143 [==============================] - 0s 890us/step - loss: 0.0018 - mse: 0.0018 - val_loss: 0.0017 - val_mse: 0.0017\n",
      "Epoch 77/100\n",
      "143/143 [==============================] - 0s 937us/step - loss: 0.0016 - mse: 0.0016 - val_loss: 0.0015 - val_mse: 0.0015\n",
      "Epoch 78/100\n",
      "143/143 [==============================] - 0s 936us/step - loss: 0.0015 - mse: 0.0015 - val_loss: 0.0014 - val_mse: 0.0014\n",
      "Epoch 79/100\n",
      "143/143 [==============================] - 0s 888us/step - loss: 0.0013 - mse: 0.0013 - val_loss: 0.0014 - val_mse: 0.0014\n",
      "Epoch 80/100\n",
      "143/143 [==============================] - 0s 903us/step - loss: 0.0012 - mse: 0.0012 - val_loss: 0.0013 - val_mse: 0.0013\n",
      "Epoch 81/100\n",
      "143/143 [==============================] - 0s 877us/step - loss: 0.0011 - mse: 0.0011 - val_loss: 0.0010 - val_mse: 0.0010\n",
      "Epoch 82/100\n",
      "143/143 [==============================] - 0s 885us/step - loss: 9.8894e-04 - mse: 9.8894e-04 - val_loss: 9.1705e-04 - val_mse: 9.1705e-04\n",
      "Epoch 83/100\n",
      "143/143 [==============================] - 0s 887us/step - loss: 8.4915e-04 - mse: 8.4915e-04 - val_loss: 9.2587e-04 - val_mse: 9.2587e-04\n",
      "Epoch 84/100\n",
      "143/143 [==============================] - 0s 917us/step - loss: 7.7240e-04 - mse: 7.7240e-04 - val_loss: 8.1317e-04 - val_mse: 8.1317e-04\n",
      "Epoch 85/100\n",
      "143/143 [==============================] - 0s 921us/step - loss: 6.8415e-04 - mse: 6.8415e-04 - val_loss: 6.6065e-04 - val_mse: 6.6065e-04\n",
      "Epoch 86/100\n",
      "143/143 [==============================] - 0s 986us/step - loss: 5.8773e-04 - mse: 5.8773e-04 - val_loss: 5.7619e-04 - val_mse: 5.7619e-04\n",
      "Epoch 87/100\n",
      "143/143 [==============================] - 0s 898us/step - loss: 5.2371e-04 - mse: 5.2371e-04 - val_loss: 4.8825e-04 - val_mse: 4.8825e-04\n",
      "Epoch 88/100\n",
      "143/143 [==============================] - 0s 910us/step - loss: 4.4976e-04 - mse: 4.4976e-04 - val_loss: 4.3339e-04 - val_mse: 4.3339e-04\n",
      "Epoch 89/100\n",
      "143/143 [==============================] - 0s 911us/step - loss: 3.9440e-04 - mse: 3.9440e-04 - val_loss: 3.9235e-04 - val_mse: 3.9235e-04\n",
      "Epoch 90/100\n",
      "143/143 [==============================] - 0s 985us/step - loss: 3.4142e-04 - mse: 3.4142e-04 - val_loss: 3.3971e-04 - val_mse: 3.3971e-04\n",
      "Epoch 91/100\n",
      "143/143 [==============================] - 0s 874us/step - loss: 2.8122e-04 - mse: 2.8122e-04 - val_loss: 3.6408e-04 - val_mse: 3.6408e-04\n",
      "Epoch 92/100\n",
      "143/143 [==============================] - 0s 864us/step - loss: 2.4156e-04 - mse: 2.4156e-04 - val_loss: 2.3669e-04 - val_mse: 2.3669e-04\n",
      "Epoch 93/100\n",
      "143/143 [==============================] - 0s 945us/step - loss: 2.0328e-04 - mse: 2.0328e-04 - val_loss: 2.2530e-04 - val_mse: 2.2530e-04\n",
      "Epoch 94/100\n",
      "143/143 [==============================] - 0s 880us/step - loss: 1.7350e-04 - mse: 1.7350e-04 - val_loss: 1.5415e-04 - val_mse: 1.5415e-04\n",
      "Epoch 95/100\n",
      "143/143 [==============================] - 0s 882us/step - loss: 1.3957e-04 - mse: 1.3957e-04 - val_loss: 1.5905e-04 - val_mse: 1.5905e-04\n",
      "Epoch 96/100\n",
      "143/143 [==============================] - 0s 918us/step - loss: 1.1055e-04 - mse: 1.1055e-04 - val_loss: 1.1269e-04 - val_mse: 1.1269e-04\n",
      "Epoch 97/100\n",
      "143/143 [==============================] - 0s 934us/step - loss: 9.2135e-05 - mse: 9.2135e-05 - val_loss: 1.0124e-04 - val_mse: 1.0124e-04\n",
      "Epoch 98/100\n",
      "143/143 [==============================] - 0s 863us/step - loss: 7.2818e-05 - mse: 7.2818e-05 - val_loss: 1.1077e-04 - val_mse: 1.1077e-04\n",
      "Epoch 99/100\n",
      "143/143 [==============================] - 0s 905us/step - loss: 6.1108e-05 - mse: 6.1108e-05 - val_loss: 5.3541e-05 - val_mse: 5.3541e-05\n",
      "Epoch 100/100\n",
      "143/143 [==============================] - 0s 915us/step - loss: 4.7276e-05 - mse: 4.7276e-05 - val_loss: 4.0023e-05 - val_mse: 4.0023e-05\n"
     ]
    },
    {
     "data": {
      "text/plain": [
       "<keras.callbacks.History at 0x13525769a60>"
      ]
     },
     "execution_count": 44,
     "metadata": {},
     "output_type": "execute_result"
    }
   ],
   "source": [
    "from tensorflow.keras.models import Sequential\n",
    "from tensorflow.keras.layers import Dense\n",
    "\n",
    "model = Sequential()\n",
    "model.add(Dense(units=1, input_shape=(5,), activation='linear'))\n",
    "\n",
    "model.compile(optimizer='adam', loss='mean_squared_error', metrics=['mse'])\n",
    "\n",
    "model.fit(X_train, y_train, epochs=100, batch_size=32, validation_data=(X_val, y_val))"
   ]
  },
  {
   "cell_type": "code",
   "execution_count": 45,
   "id": "bc23ce42",
   "metadata": {},
   "outputs": [
    {
     "name": "stdout",
     "output_type": "stream",
     "text": [
      "Epoch 1/100\n",
      "143/143 [==============================] - 0s 2ms/step - loss: 0.1587 - mse: 0.1587 - val_loss: 0.0122 - val_mse: 0.0122\n",
      "Epoch 2/100\n",
      "143/143 [==============================] - 0s 1ms/step - loss: 0.0109 - mse: 0.0109 - val_loss: 0.0103 - val_mse: 0.0103\n",
      "Epoch 3/100\n",
      "143/143 [==============================] - 0s 981us/step - loss: 0.0086 - mse: 0.0086 - val_loss: 0.0078 - val_mse: 0.0078\n",
      "Epoch 4/100\n",
      "143/143 [==============================] - 0s 1ms/step - loss: 0.0073 - mse: 0.0073 - val_loss: 0.0073 - val_mse: 0.0073\n",
      "Epoch 5/100\n",
      "143/143 [==============================] - 0s 977us/step - loss: 0.0065 - mse: 0.0065 - val_loss: 0.0065 - val_mse: 0.0065\n",
      "Epoch 6/100\n",
      "143/143 [==============================] - 0s 1ms/step - loss: 0.0059 - mse: 0.0059 - val_loss: 0.0060 - val_mse: 0.0060\n",
      "Epoch 7/100\n",
      "143/143 [==============================] - 0s 987us/step - loss: 0.0054 - mse: 0.0054 - val_loss: 0.0057 - val_mse: 0.0057\n",
      "Epoch 8/100\n",
      "143/143 [==============================] - 0s 1ms/step - loss: 0.0050 - mse: 0.0050 - val_loss: 0.0056 - val_mse: 0.0056\n",
      "Epoch 9/100\n",
      "143/143 [==============================] - 0s 1ms/step - loss: 0.0047 - mse: 0.0047 - val_loss: 0.0050 - val_mse: 0.0050\n",
      "Epoch 10/100\n",
      "143/143 [==============================] - 0s 1ms/step - loss: 0.0044 - mse: 0.0044 - val_loss: 0.0046 - val_mse: 0.0046\n",
      "Epoch 11/100\n",
      "143/143 [==============================] - 0s 1ms/step - loss: 0.0041 - mse: 0.0041 - val_loss: 0.0044 - val_mse: 0.0044\n",
      "Epoch 12/100\n",
      "143/143 [==============================] - 0s 1ms/step - loss: 0.0038 - mse: 0.0038 - val_loss: 0.0040 - val_mse: 0.0040\n",
      "Epoch 13/100\n",
      "143/143 [==============================] - 0s 1ms/step - loss: 0.0035 - mse: 0.0035 - val_loss: 0.0038 - val_mse: 0.0038\n",
      "Epoch 14/100\n",
      "143/143 [==============================] - 0s 1ms/step - loss: 0.0032 - mse: 0.0032 - val_loss: 0.0034 - val_mse: 0.0034\n",
      "Epoch 15/100\n",
      "143/143 [==============================] - 0s 941us/step - loss: 0.0030 - mse: 0.0030 - val_loss: 0.0032 - val_mse: 0.0032\n",
      "Epoch 16/100\n",
      "143/143 [==============================] - 0s 992us/step - loss: 0.0027 - mse: 0.0027 - val_loss: 0.0029 - val_mse: 0.0029\n",
      "Epoch 17/100\n",
      "143/143 [==============================] - 0s 1ms/step - loss: 0.0025 - mse: 0.0025 - val_loss: 0.0025 - val_mse: 0.0025\n",
      "Epoch 18/100\n",
      "143/143 [==============================] - 0s 1ms/step - loss: 0.0023 - mse: 0.0023 - val_loss: 0.0024 - val_mse: 0.0024\n",
      "Epoch 19/100\n",
      "143/143 [==============================] - 0s 1ms/step - loss: 0.0021 - mse: 0.0021 - val_loss: 0.0021 - val_mse: 0.0021\n",
      "Epoch 20/100\n",
      "143/143 [==============================] - 0s 1ms/step - loss: 0.0019 - mse: 0.0019 - val_loss: 0.0019 - val_mse: 0.0019\n",
      "Epoch 21/100\n",
      "143/143 [==============================] - 0s 966us/step - loss: 0.0017 - mse: 0.0017 - val_loss: 0.0017 - val_mse: 0.0017\n",
      "Epoch 22/100\n",
      "143/143 [==============================] - 0s 975us/step - loss: 0.0016 - mse: 0.0016 - val_loss: 0.0018 - val_mse: 0.0018\n",
      "Epoch 23/100\n",
      "143/143 [==============================] - 0s 1ms/step - loss: 0.0015 - mse: 0.0015 - val_loss: 0.0014 - val_mse: 0.0014\n",
      "Epoch 24/100\n",
      "143/143 [==============================] - 0s 987us/step - loss: 0.0013 - mse: 0.0013 - val_loss: 0.0012 - val_mse: 0.0012\n",
      "Epoch 25/100\n",
      "143/143 [==============================] - 0s 999us/step - loss: 0.0012 - mse: 0.0012 - val_loss: 0.0010 - val_mse: 0.0010\n",
      "Epoch 26/100\n",
      "143/143 [==============================] - 0s 1ms/step - loss: 0.0011 - mse: 0.0011 - val_loss: 9.8551e-04 - val_mse: 9.8551e-04\n",
      "Epoch 27/100\n",
      "143/143 [==============================] - 0s 1ms/step - loss: 9.5508e-04 - mse: 9.5508e-04 - val_loss: 8.4443e-04 - val_mse: 8.4443e-04\n",
      "Epoch 28/100\n",
      "143/143 [==============================] - 0s 993us/step - loss: 8.9518e-04 - mse: 8.9518e-04 - val_loss: 8.2927e-04 - val_mse: 8.2927e-04\n",
      "Epoch 29/100\n",
      "143/143 [==============================] - 0s 1ms/step - loss: 7.6823e-04 - mse: 7.6823e-04 - val_loss: 8.5384e-04 - val_mse: 8.5384e-04\n",
      "Epoch 30/100\n",
      "143/143 [==============================] - 0s 977us/step - loss: 7.3684e-04 - mse: 7.3684e-04 - val_loss: 6.6884e-04 - val_mse: 6.6884e-04\n",
      "Epoch 31/100\n",
      "143/143 [==============================] - 0s 992us/step - loss: 6.3359e-04 - mse: 6.3359e-04 - val_loss: 6.2034e-04 - val_mse: 6.2034e-04\n",
      "Epoch 32/100\n",
      "143/143 [==============================] - 0s 984us/step - loss: 5.9435e-04 - mse: 5.9435e-04 - val_loss: 5.1629e-04 - val_mse: 5.1629e-04\n",
      "Epoch 33/100\n",
      "143/143 [==============================] - 0s 985us/step - loss: 5.4547e-04 - mse: 5.4547e-04 - val_loss: 4.7143e-04 - val_mse: 4.7143e-04\n",
      "Epoch 34/100\n",
      "143/143 [==============================] - 0s 1ms/step - loss: 5.2613e-04 - mse: 5.2613e-04 - val_loss: 4.4404e-04 - val_mse: 4.4404e-04\n",
      "Epoch 35/100\n",
      "143/143 [==============================] - 0s 1ms/step - loss: 4.9065e-04 - mse: 4.9065e-04 - val_loss: 4.1418e-04 - val_mse: 4.1418e-04\n",
      "Epoch 36/100\n",
      "143/143 [==============================] - 0s 1ms/step - loss: 4.7172e-04 - mse: 4.7172e-04 - val_loss: 4.1067e-04 - val_mse: 4.1067e-04\n",
      "Epoch 37/100\n",
      "143/143 [==============================] - 0s 993us/step - loss: 3.9235e-04 - mse: 3.9235e-04 - val_loss: 3.2579e-04 - val_mse: 3.2579e-04\n",
      "Epoch 38/100\n",
      "143/143 [==============================] - 0s 1ms/step - loss: 3.5346e-04 - mse: 3.5346e-04 - val_loss: 2.9690e-04 - val_mse: 2.9690e-04\n",
      "Epoch 39/100\n",
      "143/143 [==============================] - 0s 930us/step - loss: 2.9543e-04 - mse: 2.9543e-04 - val_loss: 2.2245e-04 - val_mse: 2.2245e-04\n",
      "Epoch 40/100\n",
      "143/143 [==============================] - 0s 985us/step - loss: 2.4717e-04 - mse: 2.4717e-04 - val_loss: 1.7039e-04 - val_mse: 1.7039e-04\n",
      "Epoch 41/100\n",
      "143/143 [==============================] - 0s 940us/step - loss: 1.8845e-04 - mse: 1.8845e-04 - val_loss: 2.3715e-04 - val_mse: 2.3715e-04\n",
      "Epoch 42/100\n",
      "143/143 [==============================] - 0s 951us/step - loss: 1.5806e-04 - mse: 1.5806e-04 - val_loss: 1.2768e-04 - val_mse: 1.2768e-04\n",
      "Epoch 43/100\n",
      "143/143 [==============================] - 0s 942us/step - loss: 1.3913e-04 - mse: 1.3913e-04 - val_loss: 1.1449e-04 - val_mse: 1.1449e-04\n",
      "Epoch 44/100\n",
      "143/143 [==============================] - 0s 937us/step - loss: 1.3471e-04 - mse: 1.3471e-04 - val_loss: 1.0474e-04 - val_mse: 1.0474e-04\n",
      "Epoch 45/100\n",
      "143/143 [==============================] - 0s 1ms/step - loss: 1.2111e-04 - mse: 1.2111e-04 - val_loss: 1.2595e-04 - val_mse: 1.2595e-04\n",
      "Epoch 46/100\n",
      "143/143 [==============================] - 0s 1ms/step - loss: 1.0576e-04 - mse: 1.0576e-04 - val_loss: 1.2720e-04 - val_mse: 1.2720e-04\n",
      "Epoch 47/100\n",
      "143/143 [==============================] - 0s 1ms/step - loss: 1.0026e-04 - mse: 1.0026e-04 - val_loss: 1.1093e-04 - val_mse: 1.1093e-04\n",
      "Epoch 48/100\n",
      "143/143 [==============================] - 0s 1ms/step - loss: 8.6937e-05 - mse: 8.6937e-05 - val_loss: 1.2470e-04 - val_mse: 1.2470e-04\n",
      "Epoch 49/100\n",
      "143/143 [==============================] - 0s 974us/step - loss: 8.0813e-05 - mse: 8.0813e-05 - val_loss: 6.5152e-05 - val_mse: 6.5152e-05\n",
      "Epoch 50/100\n",
      "143/143 [==============================] - 0s 949us/step - loss: 6.9650e-05 - mse: 6.9650e-05 - val_loss: 7.9806e-05 - val_mse: 7.9806e-05\n",
      "Epoch 51/100\n",
      "143/143 [==============================] - 0s 1ms/step - loss: 6.5799e-05 - mse: 6.5799e-05 - val_loss: 8.6975e-05 - val_mse: 8.6975e-05\n",
      "Epoch 52/100\n",
      "143/143 [==============================] - 0s 964us/step - loss: 6.4756e-05 - mse: 6.4756e-05 - val_loss: 6.6684e-05 - val_mse: 6.6684e-05\n",
      "Epoch 53/100\n",
      "143/143 [==============================] - 0s 1ms/step - loss: 5.8158e-05 - mse: 5.8158e-05 - val_loss: 4.1200e-05 - val_mse: 4.1200e-05\n",
      "Epoch 54/100\n",
      "143/143 [==============================] - 0s 1ms/step - loss: 5.1998e-05 - mse: 5.1998e-05 - val_loss: 3.1813e-05 - val_mse: 3.1813e-05\n",
      "Epoch 55/100\n",
      "143/143 [==============================] - 0s 994us/step - loss: 4.8800e-05 - mse: 4.8800e-05 - val_loss: 2.5224e-05 - val_mse: 2.5224e-05\n",
      "Epoch 56/100\n",
      "143/143 [==============================] - 0s 981us/step - loss: 5.4765e-05 - mse: 5.4765e-05 - val_loss: 4.8996e-05 - val_mse: 4.8996e-05\n",
      "Epoch 57/100\n",
      "143/143 [==============================] - 0s 1ms/step - loss: 4.6355e-05 - mse: 4.6355e-05 - val_loss: 4.7004e-04 - val_mse: 4.7004e-04\n",
      "Epoch 58/100\n",
      "143/143 [==============================] - 0s 1ms/step - loss: 1.0377e-04 - mse: 1.0377e-04 - val_loss: 4.1521e-05 - val_mse: 4.1521e-05\n",
      "Epoch 59/100\n",
      "143/143 [==============================] - 0s 1ms/step - loss: 3.1910e-05 - mse: 3.1910e-05 - val_loss: 1.2947e-05 - val_mse: 1.2947e-05\n",
      "Epoch 60/100\n",
      "143/143 [==============================] - 0s 1ms/step - loss: 2.5143e-05 - mse: 2.5143e-05 - val_loss: 2.4118e-05 - val_mse: 2.4118e-05\n",
      "Epoch 61/100\n",
      "143/143 [==============================] - 0s 1ms/step - loss: 2.5099e-05 - mse: 2.5099e-05 - val_loss: 1.9860e-05 - val_mse: 1.9860e-05\n",
      "Epoch 62/100\n",
      "143/143 [==============================] - 0s 979us/step - loss: 2.4904e-05 - mse: 2.4904e-05 - val_loss: 4.0882e-05 - val_mse: 4.0882e-05\n",
      "Epoch 63/100\n",
      "143/143 [==============================] - 0s 967us/step - loss: 3.4434e-05 - mse: 3.4434e-05 - val_loss: 6.1234e-05 - val_mse: 6.1234e-05\n",
      "Epoch 64/100\n",
      "143/143 [==============================] - 0s 1ms/step - loss: 3.2738e-04 - mse: 3.2738e-04 - val_loss: 0.0095 - val_mse: 0.0095\n",
      "Epoch 65/100\n",
      "143/143 [==============================] - 0s 942us/step - loss: 4.3041e-04 - mse: 4.3041e-04 - val_loss: 1.6677e-05 - val_mse: 1.6677e-05\n",
      "Epoch 66/100\n",
      "143/143 [==============================] - 0s 947us/step - loss: 1.5116e-05 - mse: 1.5116e-05 - val_loss: 9.0935e-06 - val_mse: 9.0935e-06\n",
      "Epoch 67/100\n",
      "143/143 [==============================] - 0s 935us/step - loss: 1.1498e-05 - mse: 1.1498e-05 - val_loss: 7.8206e-06 - val_mse: 7.8206e-06\n",
      "Epoch 68/100\n",
      "143/143 [==============================] - 0s 1ms/step - loss: 1.1089e-05 - mse: 1.1089e-05 - val_loss: 6.9742e-06 - val_mse: 6.9742e-06\n",
      "Epoch 69/100\n",
      "143/143 [==============================] - 0s 959us/step - loss: 1.0502e-05 - mse: 1.0502e-05 - val_loss: 6.2742e-06 - val_mse: 6.2742e-06\n",
      "Epoch 70/100\n",
      "143/143 [==============================] - 0s 972us/step - loss: 9.3976e-06 - mse: 9.3976e-06 - val_loss: 7.0697e-06 - val_mse: 7.0697e-06\n",
      "Epoch 71/100\n",
      "143/143 [==============================] - 0s 992us/step - loss: 8.0981e-06 - mse: 8.0981e-06 - val_loss: 6.0119e-06 - val_mse: 6.0119e-06\n",
      "Epoch 72/100\n",
      "143/143 [==============================] - 0s 941us/step - loss: 8.0286e-06 - mse: 8.0286e-06 - val_loss: 8.2158e-06 - val_mse: 8.2158e-06\n",
      "Epoch 73/100\n",
      "143/143 [==============================] - 0s 1ms/step - loss: 7.8473e-06 - mse: 7.8473e-06 - val_loss: 9.1931e-06 - val_mse: 9.1931e-06\n",
      "Epoch 74/100\n",
      "143/143 [==============================] - 0s 1ms/step - loss: 8.1550e-06 - mse: 8.1550e-06 - val_loss: 8.7994e-06 - val_mse: 8.7994e-06\n",
      "Epoch 75/100\n",
      "143/143 [==============================] - 0s 994us/step - loss: 7.6966e-06 - mse: 7.6966e-06 - val_loss: 5.0379e-06 - val_mse: 5.0379e-06\n",
      "Epoch 76/100\n",
      "143/143 [==============================] - 0s 963us/step - loss: 7.9966e-06 - mse: 7.9966e-06 - val_loss: 5.5524e-06 - val_mse: 5.5524e-06\n",
      "Epoch 77/100\n",
      "143/143 [==============================] - 0s 958us/step - loss: 6.4137e-06 - mse: 6.4137e-06 - val_loss: 9.1809e-06 - val_mse: 9.1809e-06\n",
      "Epoch 78/100\n",
      "143/143 [==============================] - 0s 946us/step - loss: 7.6015e-06 - mse: 7.6015e-06 - val_loss: 1.1373e-05 - val_mse: 1.1373e-05\n",
      "Epoch 79/100\n",
      "143/143 [==============================] - 0s 964us/step - loss: 6.8588e-06 - mse: 6.8588e-06 - val_loss: 5.1897e-06 - val_mse: 5.1897e-06\n",
      "Epoch 80/100\n",
      "143/143 [==============================] - 0s 979us/step - loss: 6.7670e-06 - mse: 6.7670e-06 - val_loss: 1.2795e-05 - val_mse: 1.2795e-05\n",
      "Epoch 81/100\n",
      "143/143 [==============================] - 0s 1ms/step - loss: 6.2153e-06 - mse: 6.2153e-06 - val_loss: 4.4088e-06 - val_mse: 4.4088e-06\n",
      "Epoch 82/100\n",
      "143/143 [==============================] - 0s 1ms/step - loss: 7.3392e-06 - mse: 7.3392e-06 - val_loss: 4.3858e-06 - val_mse: 4.3858e-06\n",
      "Epoch 83/100\n",
      "143/143 [==============================] - 0s 1ms/step - loss: 7.1570e-06 - mse: 7.1570e-06 - val_loss: 1.4366e-05 - val_mse: 1.4366e-05\n",
      "Epoch 84/100\n",
      "143/143 [==============================] - 0s 984us/step - loss: 8.2083e-06 - mse: 8.2083e-06 - val_loss: 5.4720e-06 - val_mse: 5.4720e-06\n",
      "Epoch 85/100\n",
      "143/143 [==============================] - 0s 966us/step - loss: 6.8133e-06 - mse: 6.8133e-06 - val_loss: 6.7767e-06 - val_mse: 6.7767e-06\n",
      "Epoch 86/100\n",
      "143/143 [==============================] - 0s 943us/step - loss: 6.9437e-06 - mse: 6.9437e-06 - val_loss: 1.9174e-05 - val_mse: 1.9174e-05\n",
      "Epoch 87/100\n",
      "143/143 [==============================] - 0s 986us/step - loss: 7.5572e-06 - mse: 7.5572e-06 - val_loss: 6.0636e-06 - val_mse: 6.0636e-06\n",
      "Epoch 88/100\n",
      "143/143 [==============================] - 0s 966us/step - loss: 7.6373e-06 - mse: 7.6373e-06 - val_loss: 8.1172e-05 - val_mse: 8.1172e-05\n",
      "Epoch 89/100\n",
      "143/143 [==============================] - 0s 965us/step - loss: 1.5264e-05 - mse: 1.5264e-05 - val_loss: 4.6093e-06 - val_mse: 4.6093e-06\n",
      "Epoch 90/100\n",
      "143/143 [==============================] - 0s 963us/step - loss: 9.9591e-06 - mse: 9.9591e-06 - val_loss: 1.2013e-05 - val_mse: 1.2013e-05\n",
      "Epoch 91/100\n",
      "143/143 [==============================] - 0s 944us/step - loss: 7.3877e-06 - mse: 7.3877e-06 - val_loss: 2.8586e-05 - val_mse: 2.8586e-05\n",
      "Epoch 92/100\n",
      "143/143 [==============================] - 0s 953us/step - loss: 7.5952e-06 - mse: 7.5952e-06 - val_loss: 7.6737e-06 - val_mse: 7.6737e-06\n",
      "Epoch 93/100\n",
      "143/143 [==============================] - 0s 919us/step - loss: 6.1282e-06 - mse: 6.1282e-06 - val_loss: 4.4419e-06 - val_mse: 4.4419e-06\n",
      "Epoch 94/100\n",
      "143/143 [==============================] - 0s 937us/step - loss: 5.6305e-06 - mse: 5.6305e-06 - val_loss: 1.8559e-05 - val_mse: 1.8559e-05\n",
      "Epoch 95/100\n",
      "143/143 [==============================] - 0s 927us/step - loss: 9.6469e-06 - mse: 9.6469e-06 - val_loss: 4.9093e-06 - val_mse: 4.9093e-06\n",
      "Epoch 96/100\n",
      "143/143 [==============================] - 0s 909us/step - loss: 5.5056e-06 - mse: 5.5056e-06 - val_loss: 1.3092e-05 - val_mse: 1.3092e-05\n",
      "Epoch 97/100\n",
      "143/143 [==============================] - 0s 940us/step - loss: 6.6431e-06 - mse: 6.6431e-06 - val_loss: 7.3345e-05 - val_mse: 7.3345e-05\n",
      "Epoch 98/100\n",
      "143/143 [==============================] - 0s 920us/step - loss: 8.6617e-06 - mse: 8.6617e-06 - val_loss: 2.9135e-06 - val_mse: 2.9135e-06\n",
      "Epoch 99/100\n",
      "143/143 [==============================] - 0s 935us/step - loss: 6.6872e-06 - mse: 6.6872e-06 - val_loss: 2.9450e-05 - val_mse: 2.9450e-05\n",
      "Epoch 100/100\n",
      "143/143 [==============================] - 0s 972us/step - loss: 9.8273e-06 - mse: 9.8273e-06 - val_loss: 3.3124e-06 - val_mse: 3.3124e-06\n"
     ]
    },
    {
     "data": {
      "text/plain": [
       "<keras.callbacks.History at 0x1352df1a070>"
      ]
     },
     "execution_count": 45,
     "metadata": {},
     "output_type": "execute_result"
    }
   ],
   "source": [
    "model = Sequential()\n",
    "model.add(Dense(12, input_dim=5, activation='relu'))\n",
    "model.add(Dense(8, activation='relu'))\n",
    "model.add(Dense(1, activation='linear'))  # Change activation to 'linear' if y_train is continuous\n",
    "model.compile(loss='mean_squared_error', optimizer='adam', metrics=['mse'])\n",
    "model.fit(X_train, y_train, epochs=100, batch_size=32, validation_data=(X_test, y_test))"
   ]
  },
  {
   "cell_type": "code",
   "execution_count": 46,
   "id": "6751c426",
   "metadata": {},
   "outputs": [
    {
     "name": "stdout",
     "output_type": "stream",
     "text": [
      "31/31 [==============================] - 0s 699us/step - loss: 3.3124e-06 - mse: 3.3124e-06\n",
      "The loss based on the test set: 0.00\n",
      "The accuracy based on the test set: 0.00%\n",
      "31/31 [==============================] - 0s 723us/step - loss: 3.2221e-06 - mse: 3.2221e-06\n",
      "The loss based on the validation set: 0.00\n",
      "The accuracy based on the validation set: 0.00%\n"
     ]
    }
   ],
   "source": [
    "loss, accuracy = model.evaluate(X_test, y_test)\n",
    "print(\"The loss based on the test set: {:.2f}\\nThe accuracy based on the test set: {:.2f}%\".format(loss, accuracy * 100))\n",
    "loss, accuracy = model.evaluate(X_val, y_val)\n",
    "print(\"The loss based on the validation set: {:.2f}\\nThe accuracy based on the validation set: {:.2f}%\".format(loss, accuracy * 100))"
   ]
  }
 ],
 "metadata": {
  "kernelspec": {
   "display_name": "Python 3 (ipykernel)",
   "language": "python",
   "name": "python3"
  },
  "language_info": {
   "codemirror_mode": {
    "name": "ipython",
    "version": 3
   },
   "file_extension": ".py",
   "mimetype": "text/x-python",
   "name": "python",
   "nbconvert_exporter": "python",
   "pygments_lexer": "ipython3",
   "version": "3.9.13"
  }
 },
 "nbformat": 4,
 "nbformat_minor": 5
}
